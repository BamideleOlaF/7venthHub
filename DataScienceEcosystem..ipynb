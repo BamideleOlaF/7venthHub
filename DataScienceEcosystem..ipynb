{
 "cells": [
  {
   "cell_type": "markdown",
   "id": "49ef75e1-b420-43cf-ac4c-8744c029f451",
   "metadata": {},
   "source": [
    "1. Create a new Jupyter notebook called DataScienceEcosystem.ipynb"
   ]
  },
  {
   "cell_type": "markdown",
   "id": "7f541627-b5f2-49be-bfd4-cfdc1f563ecd",
   "metadata": {},
   "source": [
    "2. Create markdown cell with title of the notebook\r\n",
    "Create a markdown cell with the title Data Science Tools and Ecosystem using H1 style heading."
   ]
  },
  {
   "cell_type": "markdown",
   "id": "ec00d22b-f224-49a2-bfa5-86033ed31298",
   "metadata": {},
   "source": [
    "# DataScienceEcosystem.ipynb"
   ]
  },
  {
   "cell_type": "markdown",
   "id": "80f727c5-c446-413f-8e0f-19c6112a06cb",
   "metadata": {},
   "source": [
    "Exercise 3 - Create a markdown cell for an introduction\r\n",
    "\r\n",
    "Write an introductory sentence about the notebook such as the follows:\r\n",
    "\r\n",
    "In this notebook, Data Science Tools and Ecosystem su maremedmzed"
   ]
  },
  {
   "cell_type": "markdown",
   "id": "f5106132-5210-4594-8547-b107cde103c3",
   "metadata": {},
   "source": [
    "### In this Notebook, Data Science Tools and Ecosystem are summarized."
   ]
  },
  {
   "cell_type": "code",
   "execution_count": null,
   "id": "0c87a72f-5c83-46f3-a222-5f2487d9ee21",
   "metadata": {},
   "outputs": [],
   "source": [
    "Exercise 4 - Create a markdown cell to list data science languages\n",
    "\n",
    "Start the cell with an overview line such as:\n",
    "\n",
    "Some of the popular languages that Data Scientists use are:\n",
    "Then create an ordered list (i.e. numbered) listing 3 (or more) commonly used languages for data science."
   ]
  },
  {
   "cell_type": "markdown",
   "id": "a02c7ee7-7e2e-4cec-a165-b44242dbdaf4",
   "metadata": {},
   "source": [
    "### some of the popular languages that Data Science use are:\n",
    "\n",
    "1. -Python\n",
    "2. -R\n",
    "3. -SQL\n",
    "4. -Java\n",
    "5. -julia\n",
    "6. -Scala\n",
    "7. -SAS\n",
    "8. -C/C++"
   ]
  },
  {
   "cell_type": "code",
   "execution_count": null,
   "id": "0085d3b4-d30a-4dee-b0e9-17b866173a32",
   "metadata": {},
   "outputs": [],
   "source": [
    "Exercise 5 - Create a markdown cell to list data science libraries\n",
    "\n",
    "Add an overview line to the cell like:\n",
    "\n",
    "Some of the commonly used libraries used by Data Scientists include:\n",
    "Below this line add an ordered list listing 3 (or more) commonly used libraries in data science.\n",
    "\n"
   ]
  },
  {
   "cell_type": "markdown",
   "id": "817bae69-641c-4189-abbf-ae644af0e0d7",
   "metadata": {},
   "source": [
    " #### Some of the commonly used libraries used by Data Scientists include:\n",
    "\n",
    "1. -Dylyr\n",
    "2. -ggplot2\n",
    "3. -Matplotlib\n",
    "4. -Numpy\n",
    "5. -plotly\n",
    "6. -Pandas\n",
    "7. -Seaborn\n",
    "8. -Pytorch"
   ]
  },
  {
   "cell_type": "code",
   "execution_count": null,
   "id": "7251c48b-016e-458d-9e8c-5d4621b86d73",
   "metadata": {},
   "outputs": [],
   "source": [
    "Exercise 6 - Create a markdown cell with a table of Data Science tools\n",
    "\n",
    "Create a single column table in this cell with the first row containing the header Data Science Tools. \n",
    "The subsequent three rows in the table should indicate three development environment open source tools used in data science.\n",
    "\n",
    "    "
   ]
  },
  {
   "cell_type": "markdown",
   "id": "85763c67-c06d-46fb-9aaa-a620bc59729b",
   "metadata": {},
   "source": [
    "| Data Science Tools |\n",
    "|--------------------|\n",
    "| jupyter Notebooks  |\n",
    "| RStudio            |\n",
    "| VS Code            |"
   ]
  },
  {
   "cell_type": "markdown",
   "id": "7051b29d-23b6-4823-b992-01c0228d3d8f",
   "metadata": {},
   "source": [
    "Exercise 7 - Create a markdown cell introducing arithmetic expression examples\n",
    "\n",
    "Add a line in this cell with H3 style heading with text like:\n",
    "\n",
    "Below are a few examples of evaluating arithmetic expressions in Python."
   ]
  },
  {
   "cell_type": "markdown",
   "id": "2b8bb558-0da6-4cc1-bf71-44487dfe8654",
   "metadata": {},
   "source": [
    "### Below are a few examples of evaluating arithmetic expression in python\n",
    "\n",
    "(50*50)/4\n",
    "\n",
    "(2+6)*10\n",
    "\n",
    "(100-4)-40\n",
    "\n",
    "20+(2*6)"
   ]
  },
  {
   "cell_type": "code",
   "execution_count": null,
   "id": "ecac60f9-a4a3-43b0-8731-8bd91272725a",
   "metadata": {},
   "outputs": [],
   "source": [
    "Exercise 8 - Create a code cell to multiply and add numbers\n",
    "\n",
    "In this code cell evaluate the expression (3*4)+5.\n",
    "Insert a comment line before the expression to explain the operation \n",
    "e.g.  This a simple arithmetic expression to mutiply then add integers.\n",
    "Then execute the cell to ensure the expression returns the expected output of 17."
   ]
  },
  {
   "cell_type": "code",
   "execution_count": 7,
   "id": "f19b6000-8e83-4ce3-93a3-fb8aaabe9046",
   "metadata": {},
   "outputs": [
    {
     "data": {
      "text/plain": [
       "17"
      ]
     },
     "execution_count": 7,
     "metadata": {},
     "output_type": "execute_result"
    }
   ],
   "source": [
    "# This is a simple arithmetic expression to multiply then add integers.\n",
    "(3*4)+5"
   ]
  },
  {
   "cell_type": "code",
   "execution_count": null,
   "id": "2e698754-1497-4ba7-81df-b4586322189d",
   "metadata": {},
   "outputs": [],
   "source": [
    "Exercise 9 - Create a code cell to convert minutes to hours\n",
    "\n",
    "In this code cell write an expression that converts 200 minutes into hours.\n",
    "Insert a comment line before the expression to explain the operation \n",
    "e.g.  This will convert 200 minutes to hours by diving by 60.\n",
    "Run the cell to evaluate the expression."
   ]
  },
  {
   "cell_type": "code",
   "execution_count": 9,
   "id": "609eab3b-262b-4fb8-98d9-b724b9247a94",
   "metadata": {},
   "outputs": [
    {
     "data": {
      "text/plain": [
       "3.3333333333333335"
      ]
     },
     "execution_count": 9,
     "metadata": {},
     "output_type": "execute_result"
    }
   ],
   "source": [
    "# 200 minutes can be expressed as hours by dividing by 60\n",
    "\n",
    "(200/60)"
   ]
  },
  {
   "cell_type": "markdown",
   "id": "ea5d0c27-198d-4f39-b1ee-bfc7b4f19146",
   "metadata": {},
   "source": [
    "Exercise 10 - Insert a markdown cell to list Objectives\n",
    "\n",
    "Below the introduction cell created in Exercise 3,\n",
    "insert a new markdown cell to list the objectives that this notebook covered (i.e. some of the key takeaways from the course). \n",
    "In this new cell start with an introductory line titled: Objectives: in bold font. \n",
    "Then using an unordered list (bullets) indicate 3 to 5 items covered in this notebook, such as List popular languages for Data Science.\n",
    "                                                                                                                     \n",
    "### In this Notebook, Data Science Tools and Ecosystem are summarized                                                                                                                     "
   ]
  },
  {
   "cell_type": "markdown",
   "id": "7972e9d6-6c7d-4929-9a03-69454d448ad2",
   "metadata": {},
   "source": [
    "***Objectives:***\n",
    "\n",
    "1. -List popular languages for Data Science\n",
    "2. -Insert links and images using Markdown\n",
    "3. -List examples of languages, libraries and tools used in Data Science\n",
    "4. -Create a Jupyter Notebook with markdown and code cells\n",
    "5. -Share your Jupyter Notebook publicly on GitHub\n",
    "   \n",
    "   "
   ]
  },
  {
   "cell_type": "code",
   "execution_count": null,
   "id": "87f18648-48b4-4d60-a26b-9a1109c84fec",
   "metadata": {},
   "outputs": [],
   "source": [
    "Exercise 11 - Create a markdown cell to indicate the Author's name\n",
    "\n",
    "In this markdown cell markdown cell include the following text Author in H2 style heading. \n",
    "Include your name as regular text below the word Author."
   ]
  },
  {
   "cell_type": "markdown",
   "id": "63cc690f-bf20-49f9-b92c-0b055a2dfa21",
   "metadata": {},
   "source": [
    "## Author\n",
    "Oladipo Bamidele Falaiye"
   ]
  }
 ],
 "metadata": {
  "kernelspec": {
   "display_name": "anaconda-2024.02-py310",
   "language": "python",
   "name": "conda-env-anaconda-2024.02-py310-py"
  },
  "language_info": {
   "codemirror_mode": {
    "name": "ipython",
    "version": 3
   },
   "file_extension": ".py",
   "mimetype": "text/x-python",
   "name": "python",
   "nbconvert_exporter": "python",
   "pygments_lexer": "ipython3",
   "version": "3.10.14"
  }
 },
 "nbformat": 4,
 "nbformat_minor": 5
}
